{
  "nbformat": 4,
  "nbformat_minor": 0,
  "metadata": {
    "colab": {
      "name": "ai7984.ipynb",
      "provenance": [],
      "authorship_tag": "ABX9TyOmEBSQt8ZkoluB+bWUvh9h",
      "include_colab_link": true
    },
    "kernelspec": {
      "name": "python3",
      "display_name": "Python 3"
    },
    "language_info": {
      "name": "python"
    }
  },
  "cells": [
    {
      "cell_type": "markdown",
      "metadata": {
        "id": "view-in-github",
        "colab_type": "text"
      },
      "source": [
        "<a href=\"https://colab.research.google.com/github/seymanuryasa/study-place/blob/main/ai7984.ipynb\" target=\"_parent\"><img src=\"https://colab.research.google.com/assets/colab-badge.svg\" alt=\"Open In Colab\"/></a>"
      ]
    },
    {
      "cell_type": "markdown",
      "source": [
        "rock, paper, scissors\n"
      ],
      "metadata": {
        "id": "cwGdRBcWGL4V"
      }
    },
    {
      "cell_type": "code",
      "execution_count": 1,
      "metadata": {
        "id": "CWBTDLt12FHE"
      },
      "outputs": [],
      "source": [
        "import random"
      ]
    },
    {
      "cell_type": "code",
      "source": [
        "action_list = [\"rock\", \"paper\", \"scissors\"]"
      ],
      "metadata": {
        "id": "KldWtADe2HQs"
      },
      "execution_count": 2,
      "outputs": []
    },
    {
      "cell_type": "code",
      "source": [
        "computer_score = 0\n",
        "player_score = 0\n",
        "\n",
        "total_rounds = input(\"how many rounda do you wanna play? please enter a number in here: \")\n",
        "\n",
        "round_counter = 0\n",
        "\n",
        "while True:\n",
        "  round_counter += 1\n",
        "  print(\"round number:\", round_counter)\n",
        "\n",
        "  computer_choice = random.choice(action_list)\n",
        "\n",
        "  player_choice = input(\"please choose your action:\")\n",
        "\n",
        "  print(\"computer:\", computer_choice)\n",
        "  print(\"player:\", player_choice)\n",
        "\n",
        "  if computer_choice == player_choice:\n",
        "    print(\"tie! both of choose the same action.\")\n",
        "  \n",
        "  elif computer_choice == \"paper\":\n",
        "    if player_choice == \"rock\":\n",
        "      print(\"winner is: computer\")\n",
        "      computer_score += 1\n",
        "    else:\n",
        "      print(\"winner is the player.\")\n",
        "      player_score +=1\n",
        "    \n",
        "  elif computer_choice == \"rock\":\n",
        "    if player_choice == \"paper\":\n",
        "      print(\"winner is: player\")\n",
        "      player_score += 1\n",
        "    else:\n",
        "      print(\"winner is: computer\")\n",
        "      computer_score +=1\n",
        "\n",
        "  elif computer_choice == \"scissors\":\n",
        "    if player_choice == \"paper\":\n",
        "      print(\"winner is: computer\")\n",
        "      computer_score +=1\n",
        "    else:\n",
        "      print(\"winner is: player\")\n",
        "      player_score +=1\n",
        "\n",
        "  if round_counter == int(total_rounds):\n",
        "    break\n",
        "\n",
        "if computer_score == player_score :\n",
        "  print(\"there is no winner, tie.\", computer_score, \":\", player_score)\n",
        "elif computer_score > player_score:\n",
        "  print(\"computer is the winner with score\",  computer_score)\n",
        "elif computer_score < player_score:\n",
        "  print(\"player is the winner with score\", player_score)"
      ],
      "metadata": {
        "colab": {
          "base_uri": "https://localhost:8080/"
        },
        "id": "PdPuykI0-7xv",
        "outputId": "c7e7d1c2-d0f7-4836-f2a8-00fee4ff29e7"
      },
      "execution_count": 13,
      "outputs": [
        {
          "output_type": "stream",
          "name": "stdout",
          "text": [
            "how many rounda do you wanna play? please enter a number in here: 3\n",
            "round number: 1\n",
            "please choose your action:3\n",
            "computer: scissors\n",
            "player: 3\n",
            "winner is: player\n",
            "round number: 2\n",
            "please choose your action:1\n",
            "computer: paper\n",
            "player: 1\n",
            "winner is the player.\n",
            "round number: 3\n",
            "please choose your action:2\n",
            "computer: scissors\n",
            "player: 2\n",
            "winner is: player\n",
            "player is the winner with score 3\n"
          ]
        }
      ]
    },
    {
      "cell_type": "markdown",
      "source": [
        "sales person revenue"
      ],
      "metadata": {
        "id": "wcO8EwoPGhS3"
      }
    },
    {
      "cell_type": "code",
      "source": [
        "salesperson_revenue = {\n",
        "    \"seyma\": 0,\n",
        "    \"ahmet\": 0,\n",
        "    \"mehmet\": 0,\n",
        "    \"zeynep\":0,\n",
        "    \"ayse\": 0,\n",
        "    \"fatma\":0,\n",
        "}"
      ],
      "metadata": {
        "id": "UGqkS5iqGjx4"
      },
      "execution_count": 14,
      "outputs": []
    },
    {
      "cell_type": "code",
      "source": [
        "def enter_revenue(name, revenue):\n",
        "  global salesperson_revenue\n",
        "  salesperson_revenue[name] += revenue"
      ],
      "metadata": {
        "id": "HME_--pdHDz8"
      },
      "execution_count": 15,
      "outputs": []
    },
    {
      "cell_type": "code",
      "source": [
        "while True:\n",
        "  name = input(\"enter name: \")\n",
        "  if name == \"quit\":\n",
        "    break\n",
        "  revenue = int(input(\"enter revenue: \"))\n",
        "  enter_revenue(name, revenue)\n",
        "  print(f\"{name}'s revenue is {salesperson_revenue[name]}\")"
      ],
      "metadata": {
        "colab": {
          "base_uri": "https://localhost:8080/"
        },
        "id": "-VxUmhBUHN13",
        "outputId": "cc8c5043-25ef-415a-927a-7e1d9f2c1c4b"
      },
      "execution_count": 18,
      "outputs": [
        {
          "name": "stdout",
          "output_type": "stream",
          "text": [
            "enter name: seyma\n",
            "enter revenue: 1000\n",
            "seyma's revenue is 6000\n",
            "enter name: ahmet\n",
            "enter revenue: 100\n",
            "ahmet's revenue is 4100\n",
            "enter name: mehmet\n",
            "enter revenue: 1000\n",
            "mehmet's revenue is 1300\n",
            "enter name: zeynep\n",
            "enter revenue: 1000\n",
            "zeynep's revenue is 1900\n",
            "enter name: ayse\n",
            "enter revenue: 1000\n",
            "ayse's revenue is 1000\n",
            "enter name: fatma\n",
            "enter revenue: 1000\n",
            "fatma's revenue is 1000\n",
            "enter name: quit\n"
          ]
        }
      ]
    },
    {
      "cell_type": "code",
      "source": [
        "print(salesperson_revenue)"
      ],
      "metadata": {
        "colab": {
          "base_uri": "https://localhost:8080/"
        },
        "id": "Xm2t0ekNHx1V",
        "outputId": "6e3da9b3-2518-4df3-9c2e-4c7c0d74d02f"
      },
      "execution_count": 19,
      "outputs": [
        {
          "output_type": "stream",
          "name": "stdout",
          "text": [
            "{'seyma': 6000, 'ahmet': 4100, 'mehmet': 1300, 'zeynep': 1900, 'ayse': 1000, 'fatma': 1000}\n"
          ]
        }
      ]
    },
    {
      "cell_type": "code",
      "source": [
        ""
      ],
      "metadata": {
        "id": "6scXSVXiITO6"
      },
      "execution_count": null,
      "outputs": []
    },
    {
      "cell_type": "code",
      "source": [
        ""
      ],
      "metadata": {
        "id": "Log7Yt3FGf76"
      },
      "execution_count": null,
      "outputs": []
    }
  ]
}